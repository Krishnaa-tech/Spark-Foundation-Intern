{
  "cells": [
    {
      "cell_type": "markdown",
      "metadata": {
        "id": "view-in-github",
        "colab_type": "text"
      },
      "source": [
        "<a href=\"https://colab.research.google.com/github/Krishlavasa/Krishna/blob/main/Petrol_Price__Prediction.ipynb\" target=\"_parent\"><img src=\"https://colab.research.google.com/assets/colab-badge.svg\" alt=\"Open In Colab\"/></a>"
      ]
    },
    {
      "cell_type": "markdown",
      "id": "7a019470",
      "metadata": {
        "id": "7a019470"
      },
      "source": [
        "# **<center>Prediction using Supervised ML**"
      ]
    },
    {
      "cell_type": "markdown",
      "id": "438c32e2",
      "metadata": {
        "id": "438c32e2"
      },
      "source": [
        "### ***Author - KRISH GOYAL***"
      ]
    },
    {
      "cell_type": "code",
      "execution_count": 1,
      "id": "5af9c752",
      "metadata": {
        "id": "5af9c752"
      },
      "outputs": [],
      "source": [
        "#importing the required libraries\n",
        "import pandas as pd\n",
        "import numpy as np\n",
        "import matplotlib.pyplot as plt\n",
        "import seaborn as sns\n",
        "import statsmodels.api as sm\n",
        "from sklearn.model_selection import train_test_split\n",
        "from sklearn.linear_model import LinearRegression\n",
        "from sklearn import metrics"
      ]
    },
    {
      "cell_type": "markdown",
      "id": "40acad47",
      "metadata": {
        "id": "40acad47"
      },
      "source": [
        "### 1 - Reading data from Remote Link"
      ]
    },
    {
      "cell_type": "code",
      "execution_count": 2,
      "id": "651d2bd6",
      "metadata": {
        "scrolled": true,
        "colab": {
          "base_uri": "https://localhost:8080/",
          "height": 363
        },
        "id": "651d2bd6",
        "outputId": "0c4ce530-5412-4329-ac52-268e4e7abb51"
      },
      "outputs": [
        {
          "output_type": "execute_result",
          "data": {
            "text/plain": [
              "       Date  Prices  Day\n",
              "0   1.07.22  110.86    1\n",
              "1   2.07.22  110.86    2\n",
              "2   3.07.22  110.86    3\n",
              "3   4.07.22  110.86    4\n",
              "4   5.07.22  110.86    5\n",
              "5   6.07.22  110.86    6\n",
              "6   7.07.22  110.86    7\n",
              "7   8.07.22  110.86    8\n",
              "8   9.07.22  110.86    9\n",
              "9  10.07.22  110.86   10"
            ],
            "text/html": [
              "\n",
              "  <div id=\"df-661e1fa1-08fb-4f58-9264-5314626472b7\">\n",
              "    <div class=\"colab-df-container\">\n",
              "      <div>\n",
              "<style scoped>\n",
              "    .dataframe tbody tr th:only-of-type {\n",
              "        vertical-align: middle;\n",
              "    }\n",
              "\n",
              "    .dataframe tbody tr th {\n",
              "        vertical-align: top;\n",
              "    }\n",
              "\n",
              "    .dataframe thead th {\n",
              "        text-align: right;\n",
              "    }\n",
              "</style>\n",
              "<table border=\"1\" class=\"dataframe\">\n",
              "  <thead>\n",
              "    <tr style=\"text-align: right;\">\n",
              "      <th></th>\n",
              "      <th>Date</th>\n",
              "      <th>Prices</th>\n",
              "      <th>Day</th>\n",
              "    </tr>\n",
              "  </thead>\n",
              "  <tbody>\n",
              "    <tr>\n",
              "      <th>0</th>\n",
              "      <td>1.07.22</td>\n",
              "      <td>110.86</td>\n",
              "      <td>1</td>\n",
              "    </tr>\n",
              "    <tr>\n",
              "      <th>1</th>\n",
              "      <td>2.07.22</td>\n",
              "      <td>110.86</td>\n",
              "      <td>2</td>\n",
              "    </tr>\n",
              "    <tr>\n",
              "      <th>2</th>\n",
              "      <td>3.07.22</td>\n",
              "      <td>110.86</td>\n",
              "      <td>3</td>\n",
              "    </tr>\n",
              "    <tr>\n",
              "      <th>3</th>\n",
              "      <td>4.07.22</td>\n",
              "      <td>110.86</td>\n",
              "      <td>4</td>\n",
              "    </tr>\n",
              "    <tr>\n",
              "      <th>4</th>\n",
              "      <td>5.07.22</td>\n",
              "      <td>110.86</td>\n",
              "      <td>5</td>\n",
              "    </tr>\n",
              "    <tr>\n",
              "      <th>5</th>\n",
              "      <td>6.07.22</td>\n",
              "      <td>110.86</td>\n",
              "      <td>6</td>\n",
              "    </tr>\n",
              "    <tr>\n",
              "      <th>6</th>\n",
              "      <td>7.07.22</td>\n",
              "      <td>110.86</td>\n",
              "      <td>7</td>\n",
              "    </tr>\n",
              "    <tr>\n",
              "      <th>7</th>\n",
              "      <td>8.07.22</td>\n",
              "      <td>110.86</td>\n",
              "      <td>8</td>\n",
              "    </tr>\n",
              "    <tr>\n",
              "      <th>8</th>\n",
              "      <td>9.07.22</td>\n",
              "      <td>110.86</td>\n",
              "      <td>9</td>\n",
              "    </tr>\n",
              "    <tr>\n",
              "      <th>9</th>\n",
              "      <td>10.07.22</td>\n",
              "      <td>110.86</td>\n",
              "      <td>10</td>\n",
              "    </tr>\n",
              "  </tbody>\n",
              "</table>\n",
              "</div>\n",
              "      <button class=\"colab-df-convert\" onclick=\"convertToInteractive('df-661e1fa1-08fb-4f58-9264-5314626472b7')\"\n",
              "              title=\"Convert this dataframe to an interactive table.\"\n",
              "              style=\"display:none;\">\n",
              "        \n",
              "  <svg xmlns=\"http://www.w3.org/2000/svg\" height=\"24px\"viewBox=\"0 0 24 24\"\n",
              "       width=\"24px\">\n",
              "    <path d=\"M0 0h24v24H0V0z\" fill=\"none\"/>\n",
              "    <path d=\"M18.56 5.44l.94 2.06.94-2.06 2.06-.94-2.06-.94-.94-2.06-.94 2.06-2.06.94zm-11 1L8.5 8.5l.94-2.06 2.06-.94-2.06-.94L8.5 2.5l-.94 2.06-2.06.94zm10 10l.94 2.06.94-2.06 2.06-.94-2.06-.94-.94-2.06-.94 2.06-2.06.94z\"/><path d=\"M17.41 7.96l-1.37-1.37c-.4-.4-.92-.59-1.43-.59-.52 0-1.04.2-1.43.59L10.3 9.45l-7.72 7.72c-.78.78-.78 2.05 0 2.83L4 21.41c.39.39.9.59 1.41.59.51 0 1.02-.2 1.41-.59l7.78-7.78 2.81-2.81c.8-.78.8-2.07 0-2.86zM5.41 20L4 18.59l7.72-7.72 1.47 1.35L5.41 20z\"/>\n",
              "  </svg>\n",
              "      </button>\n",
              "      \n",
              "  <style>\n",
              "    .colab-df-container {\n",
              "      display:flex;\n",
              "      flex-wrap:wrap;\n",
              "      gap: 12px;\n",
              "    }\n",
              "\n",
              "    .colab-df-convert {\n",
              "      background-color: #E8F0FE;\n",
              "      border: none;\n",
              "      border-radius: 50%;\n",
              "      cursor: pointer;\n",
              "      display: none;\n",
              "      fill: #1967D2;\n",
              "      height: 32px;\n",
              "      padding: 0 0 0 0;\n",
              "      width: 32px;\n",
              "    }\n",
              "\n",
              "    .colab-df-convert:hover {\n",
              "      background-color: #E2EBFA;\n",
              "      box-shadow: 0px 1px 2px rgba(60, 64, 67, 0.3), 0px 1px 3px 1px rgba(60, 64, 67, 0.15);\n",
              "      fill: #174EA6;\n",
              "    }\n",
              "\n",
              "    [theme=dark] .colab-df-convert {\n",
              "      background-color: #3B4455;\n",
              "      fill: #D2E3FC;\n",
              "    }\n",
              "\n",
              "    [theme=dark] .colab-df-convert:hover {\n",
              "      background-color: #434B5C;\n",
              "      box-shadow: 0px 1px 3px 1px rgba(0, 0, 0, 0.15);\n",
              "      filter: drop-shadow(0px 1px 2px rgba(0, 0, 0, 0.3));\n",
              "      fill: #FFFFFF;\n",
              "    }\n",
              "  </style>\n",
              "\n",
              "      <script>\n",
              "        const buttonEl =\n",
              "          document.querySelector('#df-661e1fa1-08fb-4f58-9264-5314626472b7 button.colab-df-convert');\n",
              "        buttonEl.style.display =\n",
              "          google.colab.kernel.accessAllowed ? 'block' : 'none';\n",
              "\n",
              "        async function convertToInteractive(key) {\n",
              "          const element = document.querySelector('#df-661e1fa1-08fb-4f58-9264-5314626472b7');\n",
              "          const dataTable =\n",
              "            await google.colab.kernel.invokeFunction('convertToInteractive',\n",
              "                                                     [key], {});\n",
              "          if (!dataTable) return;\n",
              "\n",
              "          const docLinkHtml = 'Like what you see? Visit the ' +\n",
              "            '<a target=\"_blank\" href=https://colab.research.google.com/notebooks/data_table.ipynb>data table notebook</a>'\n",
              "            + ' to learn more about interactive tables.';\n",
              "          element.innerHTML = '';\n",
              "          dataTable['output_type'] = 'display_data';\n",
              "          await google.colab.output.renderOutput(dataTable, element);\n",
              "          const docLink = document.createElement('div');\n",
              "          docLink.innerHTML = docLinkHtml;\n",
              "          element.appendChild(docLink);\n",
              "        }\n",
              "      </script>\n",
              "    </div>\n",
              "  </div>\n",
              "  "
            ]
          },
          "metadata": {},
          "execution_count": 2
        }
      ],
      "source": [
        "data = pd.read_csv(\"/content/drive/MyDrive/Colab Notebooks/Petrol_Prices.csv\")\n",
        "data.head(10)"
      ]
    },
    {
      "cell_type": "code",
      "execution_count": 3,
      "id": "0a1854b2",
      "metadata": {
        "colab": {
          "base_uri": "https://localhost:8080/",
          "height": 676
        },
        "id": "0a1854b2",
        "outputId": "91e0b216-8744-41bd-9bbb-fdfff8b0436b"
      },
      "outputs": [
        {
          "output_type": "execute_result",
          "data": {
            "text/plain": [
              "    Prices  Day\n",
              "0   110.86    1\n",
              "1   110.86    2\n",
              "2   110.86    3\n",
              "3   110.86    4\n",
              "4   110.86    5\n",
              "5   110.86    6\n",
              "6   110.86    7\n",
              "7   110.86    8\n",
              "8   110.86    9\n",
              "9   110.86   10\n",
              "10  110.86   11\n",
              "11  110.86   12\n",
              "12  110.86   13\n",
              "13  110.86   14\n",
              "14  105.82   15\n",
              "15  105.82   16\n",
              "16  105.82   17\n",
              "17  105.82   18\n",
              "18  105.82   19\n",
              "19  105.82   20"
            ],
            "text/html": [
              "\n",
              "  <div id=\"df-156c79b3-c50f-4e29-a327-0e5c79c9c312\">\n",
              "    <div class=\"colab-df-container\">\n",
              "      <div>\n",
              "<style scoped>\n",
              "    .dataframe tbody tr th:only-of-type {\n",
              "        vertical-align: middle;\n",
              "    }\n",
              "\n",
              "    .dataframe tbody tr th {\n",
              "        vertical-align: top;\n",
              "    }\n",
              "\n",
              "    .dataframe thead th {\n",
              "        text-align: right;\n",
              "    }\n",
              "</style>\n",
              "<table border=\"1\" class=\"dataframe\">\n",
              "  <thead>\n",
              "    <tr style=\"text-align: right;\">\n",
              "      <th></th>\n",
              "      <th>Prices</th>\n",
              "      <th>Day</th>\n",
              "    </tr>\n",
              "  </thead>\n",
              "  <tbody>\n",
              "    <tr>\n",
              "      <th>0</th>\n",
              "      <td>110.86</td>\n",
              "      <td>1</td>\n",
              "    </tr>\n",
              "    <tr>\n",
              "      <th>1</th>\n",
              "      <td>110.86</td>\n",
              "      <td>2</td>\n",
              "    </tr>\n",
              "    <tr>\n",
              "      <th>2</th>\n",
              "      <td>110.86</td>\n",
              "      <td>3</td>\n",
              "    </tr>\n",
              "    <tr>\n",
              "      <th>3</th>\n",
              "      <td>110.86</td>\n",
              "      <td>4</td>\n",
              "    </tr>\n",
              "    <tr>\n",
              "      <th>4</th>\n",
              "      <td>110.86</td>\n",
              "      <td>5</td>\n",
              "    </tr>\n",
              "    <tr>\n",
              "      <th>5</th>\n",
              "      <td>110.86</td>\n",
              "      <td>6</td>\n",
              "    </tr>\n",
              "    <tr>\n",
              "      <th>6</th>\n",
              "      <td>110.86</td>\n",
              "      <td>7</td>\n",
              "    </tr>\n",
              "    <tr>\n",
              "      <th>7</th>\n",
              "      <td>110.86</td>\n",
              "      <td>8</td>\n",
              "    </tr>\n",
              "    <tr>\n",
              "      <th>8</th>\n",
              "      <td>110.86</td>\n",
              "      <td>9</td>\n",
              "    </tr>\n",
              "    <tr>\n",
              "      <th>9</th>\n",
              "      <td>110.86</td>\n",
              "      <td>10</td>\n",
              "    </tr>\n",
              "    <tr>\n",
              "      <th>10</th>\n",
              "      <td>110.86</td>\n",
              "      <td>11</td>\n",
              "    </tr>\n",
              "    <tr>\n",
              "      <th>11</th>\n",
              "      <td>110.86</td>\n",
              "      <td>12</td>\n",
              "    </tr>\n",
              "    <tr>\n",
              "      <th>12</th>\n",
              "      <td>110.86</td>\n",
              "      <td>13</td>\n",
              "    </tr>\n",
              "    <tr>\n",
              "      <th>13</th>\n",
              "      <td>110.86</td>\n",
              "      <td>14</td>\n",
              "    </tr>\n",
              "    <tr>\n",
              "      <th>14</th>\n",
              "      <td>105.82</td>\n",
              "      <td>15</td>\n",
              "    </tr>\n",
              "    <tr>\n",
              "      <th>15</th>\n",
              "      <td>105.82</td>\n",
              "      <td>16</td>\n",
              "    </tr>\n",
              "    <tr>\n",
              "      <th>16</th>\n",
              "      <td>105.82</td>\n",
              "      <td>17</td>\n",
              "    </tr>\n",
              "    <tr>\n",
              "      <th>17</th>\n",
              "      <td>105.82</td>\n",
              "      <td>18</td>\n",
              "    </tr>\n",
              "    <tr>\n",
              "      <th>18</th>\n",
              "      <td>105.82</td>\n",
              "      <td>19</td>\n",
              "    </tr>\n",
              "    <tr>\n",
              "      <th>19</th>\n",
              "      <td>105.82</td>\n",
              "      <td>20</td>\n",
              "    </tr>\n",
              "  </tbody>\n",
              "</table>\n",
              "</div>\n",
              "      <button class=\"colab-df-convert\" onclick=\"convertToInteractive('df-156c79b3-c50f-4e29-a327-0e5c79c9c312')\"\n",
              "              title=\"Convert this dataframe to an interactive table.\"\n",
              "              style=\"display:none;\">\n",
              "        \n",
              "  <svg xmlns=\"http://www.w3.org/2000/svg\" height=\"24px\"viewBox=\"0 0 24 24\"\n",
              "       width=\"24px\">\n",
              "    <path d=\"M0 0h24v24H0V0z\" fill=\"none\"/>\n",
              "    <path d=\"M18.56 5.44l.94 2.06.94-2.06 2.06-.94-2.06-.94-.94-2.06-.94 2.06-2.06.94zm-11 1L8.5 8.5l.94-2.06 2.06-.94-2.06-.94L8.5 2.5l-.94 2.06-2.06.94zm10 10l.94 2.06.94-2.06 2.06-.94-2.06-.94-.94-2.06-.94 2.06-2.06.94z\"/><path d=\"M17.41 7.96l-1.37-1.37c-.4-.4-.92-.59-1.43-.59-.52 0-1.04.2-1.43.59L10.3 9.45l-7.72 7.72c-.78.78-.78 2.05 0 2.83L4 21.41c.39.39.9.59 1.41.59.51 0 1.02-.2 1.41-.59l7.78-7.78 2.81-2.81c.8-.78.8-2.07 0-2.86zM5.41 20L4 18.59l7.72-7.72 1.47 1.35L5.41 20z\"/>\n",
              "  </svg>\n",
              "      </button>\n",
              "      \n",
              "  <style>\n",
              "    .colab-df-container {\n",
              "      display:flex;\n",
              "      flex-wrap:wrap;\n",
              "      gap: 12px;\n",
              "    }\n",
              "\n",
              "    .colab-df-convert {\n",
              "      background-color: #E8F0FE;\n",
              "      border: none;\n",
              "      border-radius: 50%;\n",
              "      cursor: pointer;\n",
              "      display: none;\n",
              "      fill: #1967D2;\n",
              "      height: 32px;\n",
              "      padding: 0 0 0 0;\n",
              "      width: 32px;\n",
              "    }\n",
              "\n",
              "    .colab-df-convert:hover {\n",
              "      background-color: #E2EBFA;\n",
              "      box-shadow: 0px 1px 2px rgba(60, 64, 67, 0.3), 0px 1px 3px 1px rgba(60, 64, 67, 0.15);\n",
              "      fill: #174EA6;\n",
              "    }\n",
              "\n",
              "    [theme=dark] .colab-df-convert {\n",
              "      background-color: #3B4455;\n",
              "      fill: #D2E3FC;\n",
              "    }\n",
              "\n",
              "    [theme=dark] .colab-df-convert:hover {\n",
              "      background-color: #434B5C;\n",
              "      box-shadow: 0px 1px 3px 1px rgba(0, 0, 0, 0.15);\n",
              "      filter: drop-shadow(0px 1px 2px rgba(0, 0, 0, 0.3));\n",
              "      fill: #FFFFFF;\n",
              "    }\n",
              "  </style>\n",
              "\n",
              "      <script>\n",
              "        const buttonEl =\n",
              "          document.querySelector('#df-156c79b3-c50f-4e29-a327-0e5c79c9c312 button.colab-df-convert');\n",
              "        buttonEl.style.display =\n",
              "          google.colab.kernel.accessAllowed ? 'block' : 'none';\n",
              "\n",
              "        async function convertToInteractive(key) {\n",
              "          const element = document.querySelector('#df-156c79b3-c50f-4e29-a327-0e5c79c9c312');\n",
              "          const dataTable =\n",
              "            await google.colab.kernel.invokeFunction('convertToInteractive',\n",
              "                                                     [key], {});\n",
              "          if (!dataTable) return;\n",
              "\n",
              "          const docLinkHtml = 'Like what you see? Visit the ' +\n",
              "            '<a target=\"_blank\" href=https://colab.research.google.com/notebooks/data_table.ipynb>data table notebook</a>'\n",
              "            + ' to learn more about interactive tables.';\n",
              "          element.innerHTML = '';\n",
              "          dataTable['output_type'] = 'display_data';\n",
              "          await google.colab.output.renderOutput(dataTable, element);\n",
              "          const docLink = document.createElement('div');\n",
              "          docLink.innerHTML = docLinkHtml;\n",
              "          element.appendChild(docLink);\n",
              "        }\n",
              "      </script>\n",
              "    </div>\n",
              "  </div>\n",
              "  "
            ]
          },
          "metadata": {},
          "execution_count": 3
        }
      ],
      "source": [
        "data = data.drop('Date', axis = 1)\n",
        "data"
      ]
    },
    {
      "cell_type": "code",
      "execution_count": 4,
      "id": "b83ec1d6",
      "metadata": {
        "colab": {
          "base_uri": "https://localhost:8080/"
        },
        "id": "b83ec1d6",
        "outputId": "7ad9af51-88a2-40ef-bf30-c70021eacf7e"
      },
      "outputs": [
        {
          "output_type": "execute_result",
          "data": {
            "text/plain": [
              "False"
            ]
          },
          "metadata": {},
          "execution_count": 4
        }
      ],
      "source": [
        "# Check if there any null value in the Dataset\n",
        "data.isnull == True"
      ]
    },
    {
      "cell_type": "markdown",
      "id": "832944e3",
      "metadata": {
        "id": "832944e3"
      },
      "source": [
        "### **2 - Data Visualization**"
      ]
    },
    {
      "cell_type": "code",
      "execution_count": 5,
      "id": "093e4a8e",
      "metadata": {
        "colab": {
          "base_uri": "https://localhost:8080/",
          "height": 295
        },
        "id": "093e4a8e",
        "outputId": "b6a3be24-1fc4-4c4a-8b08-94f8dc0620f1"
      },
      "outputs": [
        {
          "output_type": "display_data",
          "data": {
            "text/plain": [
              "<Figure size 432x288 with 1 Axes>"
            ],
            "image/png": "[encoded data removed]"
          },
          "metadata": {
            "needs_background": "light"
          }
        }
      ],
      "source": [
        "# Plotting the distribution of scores\n",
        "data.plot(x='Day', y='Prices')  \n",
        "plt.title('Petrol Prices')  \n",
        "plt.xlabel('Day')  \n",
        "plt.ylabel('Prices(Rs.)')  \n",
        "plt.show()"
      ]
    },
    {
      "cell_type": "markdown",
      "id": "bf16bd14",
      "metadata": {
        "id": "bf16bd14"
      },
      "source": [
        "**From the above scatter plot there looks to be correlation between the 'Marks Percentage' and 'Hours Studied'**"
      ]
    },
    {
      "cell_type": "markdown",
      "id": "949528c8",
      "metadata": {
        "id": "949528c8"
      },
      "source": [
        "### **3 - Data Preprocessing**"
      ]
    },
    {
      "cell_type": "code",
      "execution_count": 6,
      "id": "256acac8",
      "metadata": {
        "id": "256acac8"
      },
      "outputs": [],
      "source": [
        "# Defining X and y from the Data\n",
        "X = data.iloc[:, 1:].values  \n",
        "y = data.iloc[:, :1].values"
      ]
    },
    {
      "cell_type": "code",
      "execution_count": 7,
      "id": "4074c829",
      "metadata": {
        "colab": {
          "base_uri": "https://localhost:8080/"
        },
        "id": "4074c829",
        "outputId": "5a7672eb-38c9-4f72-b78c-e0808f11a019"
      },
      "outputs": [
        {
          "output_type": "execute_result",
          "data": {
            "text/plain": [
              "array([[110.86],\n",
              "       [110.86],\n",
              "       [110.86],\n",
              "       [110.86],\n",
              "       [110.86],\n",
              "       [110.86],\n",
              "       [110.86],\n",
              "       [110.86],\n",
              "       [110.86],\n",
              "       [110.86],\n",
              "       [110.86],\n",
              "       [110.86],\n",
              "       [110.86],\n",
              "       [110.86],\n",
              "       [105.82],\n",
              "       [105.82],\n",
              "       [105.82],\n",
              "       [105.82],\n",
              "       [105.82],\n",
              "       [105.82]])"
            ]
          },
          "metadata": {},
          "execution_count": 7
        }
      ],
      "source": [
        "data.iloc[:, :1].values"
      ]
    },
    {
      "cell_type": "markdown",
      "id": "a54bf64a",
      "metadata": {
        "id": "a54bf64a"
      },
      "source": [
        "### **4 - Training the Model**"
      ]
    },
    {
      "cell_type": "markdown",
      "id": "bd9058c0",
      "metadata": {
        "id": "bd9058c0"
      },
      "source": [
        "**Splitting the Data and Fitting the Data into the model**"
      ]
    },
    {
      "cell_type": "code",
      "execution_count": 8,
      "id": "931fbbb9",
      "metadata": {
        "scrolled": true,
        "colab": {
          "base_uri": "https://localhost:8080/"
        },
        "id": "931fbbb9",
        "outputId": "96f2748d-05d2-47f0-84a8-d77491efcc9f"
      },
      "outputs": [
        {
          "output_type": "stream",
          "name": "stdout",
          "text": [
            "***********Traing Complete************\n"
          ]
        }
      ],
      "source": [
        "# Spliting the Data in two\n",
        "train_X, val_X, train_y, val_y = train_test_split(X, y,  test_size=0.3,random_state = 0)\n",
        "regressor = LinearRegression()\n",
        "regressor.fit(train_X, train_y)\n",
        "\n",
        "print(\"***********Traing Complete************\")"
      ]
    },
    {
      "cell_type": "markdown",
      "id": "ce0e54c9",
      "metadata": {
        "id": "ce0e54c9"
      },
      "source": [
        "### **5 - Plotting the Line of Regression** "
      ]
    },
    {
      "cell_type": "code",
      "execution_count": 9,
      "id": "4e6029c7",
      "metadata": {
        "colab": {
          "base_uri": "https://localhost:8080/",
          "height": 350
        },
        "id": "4e6029c7",
        "outputId": "95329e35-387e-4881-f7c4-f5fc36d36064"
      },
      "outputs": [
        {
          "output_type": "stream",
          "name": "stderr",
          "text": [
            "/usr/local/lib/python3.7/dist-packages/seaborn/_decorators.py:43: FutureWarning: Pass the following variables as keyword args: x, y. From version 0.12, the only valid positional argument will be `data`, and passing other arguments without an explicit keyword will result in an error or misinterpretation.\n",
            "  FutureWarning\n"
          ]
        },
        {
          "output_type": "display_data",
          "data": {
            "text/plain": [
              "<Figure size 432x288 with 1 Axes>"
            ],
            "image/png": "[encoded data removed]"
          },
          "metadata": {
            "needs_background": "light"
          }
        }
      ],
      "source": [
        "# Plotting the regression line\n",
        "line = regressor.coef_*X+regressor.intercept_\n",
        "\n",
        "# Plotting for the test data\n",
        "\n",
        "# sns.regplot(X, y)\n",
        "sns.regplot(X, y, ci=None)\n",
        "plt.title('Line of Best Fit')  \n",
        "plt.xlabel('Prices(Rs.)')  \n",
        "plt.ylabel('Day')  \n",
        "plt.show()"
      ]
    },
    {
      "cell_type": "markdown",
      "id": "179f3acb",
      "metadata": {
        "id": "179f3acb"
      },
      "source": [
        "### **6 - Making Predictions**\n",
        "Now that we have trained our algorithm, it's time to make some predictions."
      ]
    },
    {
      "cell_type": "code",
      "execution_count": 10,
      "id": "601cc02c",
      "metadata": {
        "scrolled": false,
        "colab": {
          "base_uri": "https://localhost:8080/"
        },
        "id": "601cc02c",
        "outputId": "55c6735a-d110-4892-85c6-e22525af7a33"
      },
      "outputs": [
        {
          "output_type": "execute_result",
          "data": {
            "text/plain": [
              "(array([[19],\n",
              "        [ 2],\n",
              "        [20],\n",
              "        [ 9],\n",
              "        [11],\n",
              "        [18]]), array([[105.82],\n",
              "        [110.86],\n",
              "        [105.82],\n",
              "        [110.86],\n",
              "        [110.86],\n",
              "        [105.82]]))"
            ]
          },
          "metadata": {},
          "execution_count": 10
        }
      ],
      "source": [
        "val_X , val_y"
      ]
    },
    {
      "cell_type": "code",
      "execution_count": 11,
      "id": "ac0436a2",
      "metadata": {
        "scrolled": true,
        "colab": {
          "base_uri": "https://localhost:8080/"
        },
        "id": "ac0436a2",
        "outputId": "96947e03-22eb-44d3-807b-abee80778d9d"
      },
      "outputs": [
        {
          "output_type": "execute_result",
          "data": {
            "text/plain": [
              "array([[107.03795753],\n",
              "       [111.87207685],\n",
              "       [106.75359757],\n",
              "       [109.88155713],\n",
              "       [109.31283721],\n",
              "       [107.32231749]])"
            ]
          },
          "metadata": {},
          "execution_count": 11
        }
      ],
      "source": [
        "# print(val_X) # Testing data - In Hours\n",
        "y_pred = regressor.predict(val_X) # Predicting the scores\n",
        "y_pred"
      ]
    },
    {
      "cell_type": "code",
      "execution_count": 12,
      "id": "57d6216c",
      "metadata": {
        "colab": {
          "base_uri": "https://localhost:8080/"
        },
        "id": "57d6216c",
        "outputId": "9fde9319-91fb-423d-a52c-94e48565934c"
      },
      "outputs": [
        {
          "output_type": "execute_result",
          "data": {
            "text/plain": [
              "array([106.46923761, 106.18487765, 105.90051769, 105.61615774,\n",
              "       105.33179778])"
            ]
          },
          "metadata": {},
          "execution_count": 12
        }
      ],
      "source": [
        "y_test = np.array([21,22,23,24,25])\n",
        "y_test = y_test.reshape(-1,1)\n",
        "y_pred_5 = regressor.predict(y_test) # Predicting the scores\n",
        "y_pred_5 = y_pred_5.flatten()\n",
        "y_pred_5"
      ]
    },
    {
      "cell_type": "markdown",
      "id": "90abc6d1",
      "metadata": {
        "id": "90abc6d1"
      },
      "source": [
        "### **7 - Comparing the Predicted Marks with the Actual Marks**"
      ]
    },
    {
      "cell_type": "code",
      "execution_count": 13,
      "id": "9be29600",
      "metadata": {
        "colab": {
          "base_uri": "https://localhost:8080/",
          "height": 206
        },
        "id": "9be29600",
        "outputId": "a973a337-a3c2-4c99-c871-704d0aad9f0c"
      },
      "outputs": [
        {
          "output_type": "execute_result",
          "data": {
            "text/plain": [
              "   Actual Price  Predicted Price\n",
              "0        105.82       106.469238\n",
              "1        105.82       106.184878\n",
              "2        105.82       105.900518\n",
              "3        105.82       105.616158\n",
              "4        105.82       105.331798"
            ],
            "text/html": [
              "\n",
              "  <div id=\"df-e2f4b377-57c7-404d-a66b-75eeb6f3ce73\">\n",
              "    <div class=\"colab-df-container\">\n",
              "      <div>\n",
              "<style scoped>\n",
              "    .dataframe tbody tr th:only-of-type {\n",
              "        vertical-align: middle;\n",
              "    }\n",
              "\n",
              "    .dataframe tbody tr th {\n",
              "        vertical-align: top;\n",
              "    }\n",
              "\n",
              "    .dataframe thead th {\n",
              "        text-align: right;\n",
              "    }\n",
              "</style>\n",
              "<table border=\"1\" class=\"dataframe\">\n",
              "  <thead>\n",
              "    <tr style=\"text-align: right;\">\n",
              "      <th></th>\n",
              "      <th>Actual Price</th>\n",
              "      <th>Predicted Price</th>\n",
              "    </tr>\n",
              "  </thead>\n",
              "  <tbody>\n",
              "    <tr>\n",
              "      <th>0</th>\n",
              "      <td>105.82</td>\n",
              "      <td>106.469238</td>\n",
              "    </tr>\n",
              "    <tr>\n",
              "      <th>1</th>\n",
              "      <td>105.82</td>\n",
              "      <td>106.184878</td>\n",
              "    </tr>\n",
              "    <tr>\n",
              "      <th>2</th>\n",
              "      <td>105.82</td>\n",
              "      <td>105.900518</td>\n",
              "    </tr>\n",
              "    <tr>\n",
              "      <th>3</th>\n",
              "      <td>105.82</td>\n",
              "      <td>105.616158</td>\n",
              "    </tr>\n",
              "    <tr>\n",
              "      <th>4</th>\n",
              "      <td>105.82</td>\n",
              "      <td>105.331798</td>\n",
              "    </tr>\n",
              "  </tbody>\n",
              "</table>\n",
              "</div>\n",
              "      <button class=\"colab-df-convert\" onclick=\"convertToInteractive('df-e2f4b377-57c7-404d-a66b-75eeb6f3ce73')\"\n",
              "              title=\"Convert this dataframe to an interactive table.\"\n",
              "              style=\"display:none;\">\n",
              "        \n",
              "  <svg xmlns=\"http://www.w3.org/2000/svg\" height=\"24px\"viewBox=\"0 0 24 24\"\n",
              "       width=\"24px\">\n",
              "    <path d=\"M0 0h24v24H0V0z\" fill=\"none\"/>\n",
              "    <path d=\"M18.56 5.44l.94 2.06.94-2.06 2.06-.94-2.06-.94-.94-2.06-.94 2.06-2.06.94zm-11 1L8.5 8.5l.94-2.06 2.06-.94-2.06-.94L8.5 2.5l-.94 2.06-2.06.94zm10 10l.94 2.06.94-2.06 2.06-.94-2.06-.94-.94-2.06-.94 2.06-2.06.94z\"/><path d=\"M17.41 7.96l-1.37-1.37c-.4-.4-.92-.59-1.43-.59-.52 0-1.04.2-1.43.59L10.3 9.45l-7.72 7.72c-.78.78-.78 2.05 0 2.83L4 21.41c.39.39.9.59 1.41.59.51 0 1.02-.2 1.41-.59l7.78-7.78 2.81-2.81c.8-.78.8-2.07 0-2.86zM5.41 20L4 18.59l7.72-7.72 1.47 1.35L5.41 20z\"/>\n",
              "  </svg>\n",
              "      </button>\n",
              "      \n",
              "  <style>\n",
              "    .colab-df-container {\n",
              "      display:flex;\n",
              "      flex-wrap:wrap;\n",
              "      gap: 12px;\n",
              "    }\n",
              "\n",
              "    .colab-df-convert {\n",
              "      background-color: #E8F0FE;\n",
              "      border: none;\n",
              "      border-radius: 50%;\n",
              "      cursor: pointer;\n",
              "      display: none;\n",
              "      fill: #1967D2;\n",
              "      height: 32px;\n",
              "      padding: 0 0 0 0;\n",
              "      width: 32px;\n",
              "    }\n",
              "\n",
              "    .colab-df-convert:hover {\n",
              "      background-color: #E2EBFA;\n",
              "      box-shadow: 0px 1px 2px rgba(60, 64, 67, 0.3), 0px 1px 3px 1px rgba(60, 64, 67, 0.15);\n",
              "      fill: #174EA6;\n",
              "    }\n",
              "\n",
              "    [theme=dark] .colab-df-convert {\n",
              "      background-color: #3B4455;\n",
              "      fill: #D2E3FC;\n",
              "    }\n",
              "\n",
              "    [theme=dark] .colab-df-convert:hover {\n",
              "      background-color: #434B5C;\n",
              "      box-shadow: 0px 1px 3px 1px rgba(0, 0, 0, 0.15);\n",
              "      filter: drop-shadow(0px 1px 2px rgba(0, 0, 0, 0.3));\n",
              "      fill: #FFFFFF;\n",
              "    }\n",
              "  </style>\n",
              "\n",
              "      <script>\n",
              "        const buttonEl =\n",
              "          document.querySelector('#df-e2f4b377-57c7-404d-a66b-75eeb6f3ce73 button.colab-df-convert');\n",
              "        buttonEl.style.display =\n",
              "          google.colab.kernel.accessAllowed ? 'block' : 'none';\n",
              "\n",
              "        async function convertToInteractive(key) {\n",
              "          const element = document.querySelector('#df-e2f4b377-57c7-404d-a66b-75eeb6f3ce73');\n",
              "          const dataTable =\n",
              "            await google.colab.kernel.invokeFunction('convertToInteractive',\n",
              "                                                     [key], {});\n",
              "          if (!dataTable) return;\n",
              "\n",
              "          const docLinkHtml = 'Like what you see? Visit the ' +\n",
              "            '<a target=\"_blank\" href=https://colab.research.google.com/notebooks/data_table.ipynb>data table notebook</a>'\n",
              "            + ' to learn more about interactive tables.';\n",
              "          element.innerHTML = '';\n",
              "          dataTable['output_type'] = 'display_data';\n",
              "          await google.colab.output.renderOutput(dataTable, element);\n",
              "          const docLink = document.createElement('div');\n",
              "          docLink.innerHTML = docLinkHtml;\n",
              "          element.appendChild(docLink);\n",
              "        }\n",
              "      </script>\n",
              "    </div>\n",
              "  </div>\n",
              "  "
            ]
          },
          "metadata": {},
          "execution_count": 13
        }
      ],
      "source": [
        "actualprice = np.array([[105.82],[105.82],[105.82],[105.82],[105.82]])\n",
        "actualprice = actualprice.flatten()\n",
        "data = {'Actual Price': actualprice,'Predicted Price': y_pred_5}\n",
        "# data1 = {}\n",
        "df1 = pd.DataFrame(data)\n",
        "df1"
      ]
    },
    {
      "cell_type": "code",
      "execution_count": 14,
      "id": "927fab4f",
      "metadata": {
        "colab": {
          "base_uri": "https://localhost:8080/",
          "height": 300
        },
        "id": "927fab4f",
        "outputId": "c5f8550a-3d17-4b92-d951-4395ca1f33a8"
      },
      "outputs": [
        {
          "output_type": "execute_result",
          "data": {
            "text/plain": [
              "[<matplotlib.lines.Line2D at 0x7fa36542b650>,\n",
              " <matplotlib.lines.Line2D at 0x7fa36542b890>]"
            ]
          },
          "metadata": {},
          "execution_count": 14
        },
        {
          "output_type": "display_data",
          "data": {
            "text/plain": [
              "<Figure size 432x288 with 1 Axes>"
            ],
            "image/png": "[encoded data removed]"
          },
          "metadata": {
            "needs_background": "light"
          }
        }
      ],
      "source": [
        "plt.plot(df1)"
      ]
    },
    {
      "cell_type": "code",
      "execution_count": 15,
      "id": "1609400b",
      "metadata": {
        "colab": {
          "base_uri": "https://localhost:8080/"
        },
        "id": "1609400b",
        "outputId": "0ad135f9-49ca-4bcc-9d45-b5089267fc84"
      },
      "outputs": [
        {
          "output_type": "stream",
          "name": "stdout",
          "text": [
            "Training Score: 0.4770107546649526\n",
            "Test Score: 0.764126524223488\n"
          ]
        }
      ],
      "source": [
        "# Estimating training and test score \n",
        "print(\"Training Score:\",regressor.score(train_X,train_y))\n",
        "print(\"Test Score:\",regressor.score(val_X,val_y))"
      ]
    },
    {
      "cell_type": "code",
      "execution_count": 16,
      "id": "365ca186",
      "metadata": {
        "colab": {
          "base_uri": "https://localhost:8080/",
          "height": 316
        },
        "id": "365ca186",
        "outputId": "9780a610-db15-4dae-c45c-84cb219d3fe2"
      },
      "outputs": [
        {
          "output_type": "display_data",
          "data": {
            "text/plain": [
              "<Figure size 360x360 with 1 Axes>"
            ],
            "image/png": "[encoded data removed]"
          },
          "metadata": {
            "needs_background": "light"
          }
        }
      ],
      "source": [
        "# Visually Comparing the Predicted Marks with the Actual Marks\n",
        "df1.plot(kind= 'bar',figsize= (5,5))\n",
        "plt.grid(which='major',linewidth ='0.5',color = 'blue')\n",
        "plt.grid(which='minor',linewidth ='0.5',color = 'red')\n",
        "plt.show()"
      ]
    },
    {
      "cell_type": "markdown",
      "id": "89bd25ac",
      "metadata": {
        "id": "89bd25ac"
      },
      "source": [
        "### **Evaluating the model**\n",
        "\n",
        "The final step is to evaluate the performance of algorithm. This step is particularly important to compare how well different algorithms perform on a particular dataset. For simplicity here, we have chosen three main metrics:\n",
        "\n",
        "##### The mean square error\n",
        "##### The mean squared error\n",
        "##### The root mean squared error"
      ]
    },
    {
      "cell_type": "code",
      "execution_count": 17,
      "id": "b2c6126f",
      "metadata": {
        "colab": {
          "base_uri": "https://localhost:8080/"
        },
        "id": "b2c6126f",
        "outputId": "6d892b7e-ef66-43e5-a3bd-3c5ec949c397"
      },
      "outputs": [
        {
          "output_type": "stream",
          "name": "stdout",
          "text": [
            "Mean Absolute Error: 1.1985925176946353\n",
            "Mean Squared Error: 1.497890920571165\n",
            "Root Mean Squared Error: 1.223883540444582\n",
            "R-2: 0.764126524223488\n"
          ]
        }
      ],
      "source": [
        "# Calculating the accuracy of the model\n",
        "print('Mean Absolute Error:', metrics.mean_absolute_error(val_y, y_pred)) \n",
        "print('Mean Squared Error:' ,metrics.mean_squared_error(val_y, y_pred))\n",
        "print('Root Mean Squared Error:', np.sqrt(metrics.mean_squared_error(val_y, y_pred)))\n",
        "print(\"R-2:\" ,metrics.r2_score(val_y,y_pred))"
      ]
    },
    {
      "cell_type": "markdown",
      "id": "29894b33",
      "metadata": {
        "id": "29894b33"
      },
      "source": [
        "R-2 gives the score of Model fit in this case we have R-2 = 0.764126524223488 which is actually a great score for the Model."
      ]
    },
    {
      "cell_type": "markdown",
      "id": "9b1d5f97",
      "metadata": {
        "id": "9b1d5f97"
      },
      "source": [
        "## **Conclusion**"
      ]
    },
    {
      "cell_type": "markdown",
      "id": "80ced2f7",
      "metadata": {
        "id": "80ced2f7"
      },
      "source": [
        "**I have successfully carried out Prediction using Supervised ML task and was able to evaluate the model's performance on the various parameters.**"
      ]
    },
    {
      "cell_type": "markdown",
      "id": "29f76de8",
      "metadata": {
        "id": "29f76de8"
      },
      "source": [
        "# **Thank You**"
      ]
    }
  ],
  "metadata": {
    "kernelspec": {
      "display_name": "Python 3",
      "language": "python",
      "name": "python3"
    },
    "language_info": {
      "codemirror_mode": {
        "name": "ipython",
        "version": 3
      },
      "file_extension": ".py",
      "mimetype": "text/x-python",
      "name": "python",
      "nbconvert_exporter": "python",
      "pygments_lexer": "ipython3",
      "version": "3.8.8"
    },
    "colab": {
      "provenance": [],
      "collapsed_sections": [],
      "include_colab_link": true
    }
  },
  "nbformat": 4,
  "nbformat_minor": 5
}